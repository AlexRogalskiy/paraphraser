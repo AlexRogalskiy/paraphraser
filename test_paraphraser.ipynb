{
 "cells": [
  {
   "cell_type": "code",
   "execution_count": 1,
   "metadata": {},
   "outputs": [],
   "source": [
    "from paraphraser.modelling.nmt_paraphraser import NMTParaphraser\n",
    "import os\n",
    "import time"
   ]
  },
  {
   "cell_type": "code",
   "execution_count": 2,
   "metadata": {},
   "outputs": [],
   "source": [
    "prism_a = 0.0\n",
    "prism_b = 4\n",
    "diverse_beam_groups=10\n",
    "beam_size=10\n",
    "beam_best=10\n",
    "diverse_beam_strength=0.5\n",
    "cpu=True\n",
    "fp16=False\n",
    "mem_efficient_fp16=False\n",
    "left_pad_source=False\n",
    "max_source_positions=50\n",
    "max_target_positions=50\n",
    "temperature = 1\n",
    "match_source_len=False\n",
    "replace_unk=None\n",
    "model_dir = 'm39v1/'\n",
    "model_path = os.path.join(model_dir,'checkpoint.pt')\n",
    "args = {'no_progress_bar': False, 'log_interval': 1000, 'log_format': None, 'tensorboard_logdir': '', 'seed': 1, \n",
    "        'cpu': cpu, 'fp16': fp16, 'memory_efficient_fp16': mem_efficient_fp16, 'fp16_init_scale': 128, 'fp16_scale_window': None,\n",
    "        'fp16_scale_tolerance': 0.0, 'min_loss_scale': 0.0001, 'threshold_loss_scale': None, 'user_dir': None, \n",
    "        'empty_cache_freq': 0, 'criterion': 'cross_entropy', 'tokenizer': None, 'bpe': None, 'optimizer': 'nag', \n",
    "        'lr_scheduler': 'fixed', 'task': 'translation', 'num_workers': 1, 'skip_invalid_size_inputs_valid_test': False,\n",
    "        'max_tokens': None, 'max_sentences': 8, 'required_batch_size_multiple': 8, 'dataset_impl': None, \n",
    "        'gen_subset': 'test', 'num_shards': 1, 'shard_id': 0, 'path': model_path, 'remove_bpe': None, 'quiet': False,\n",
    "        'model_overrides': '{}', 'results_path': None, 'beam': beam_size, 'nbest': beam_best, 'max_len_a': 0,\n",
    "        'max_len_b': 200, 'min_len': 1, 'match_source_len': match_source_len, 'no_early_stop': False, 'unnormalized': False,\n",
    "        'no_beamable_mm': False, 'lenpen': 1, 'unkpen': 0, 'replace_unk': replace_unk, 'sacrebleu': False,\n",
    "        'score_reference': False, 'prefix_size': 1, 'no_repeat_ngram_size': 0, 'sampling': False,\n",
    "        'sampling_topk': -1, 'sampling_topp': -1.0, 'temperature': temperature, 'diverse_beam_groups': diverse_beam_groups,\n",
    "        'diverse_beam_strength': diverse_beam_strength, 'print_alignment': False, 'print_step': False, 'iter_decode_eos_penalty': 0.0,\n",
    "        'iter_decode_max_iter': 10, 'iter_decode_force_max_iter': False, 'retain_iter_history': False,\n",
    "        'decoding_format': None, 'prism_a': prism_a, 'prism_b': prism_b, 'momentum': 0.99, 'weight_decay': 0.0,\n",
    "        'force_anneal': None, 'lr_shrink': 0.1, 'warmup_updates': 0, 'data': 'test_bin', 'source_lang': None,\n",
    "        'target_lang': None, 'lazy_load': False, 'raw_text': False, 'load_alignments': False,\n",
    "        'left_pad_source': left_pad_source, 'left_pad_target': 'False', 'max_source_positions': max_source_positions,\n",
    "        'max_target_positions': max_target_positions, 'upsample_primary': 1, 'truncate_source': False}\n",
    "args['model_dir'] = model_dir"
   ]
  },
  {
   "cell_type": "code",
   "execution_count": 3,
   "metadata": {},
   "outputs": [
    {
     "name": "stdout",
     "output_type": "stream",
     "text": [
      "| [src] dictionary: 65400 types\n",
      "| [tgt] dictionary: 65400 types\n",
      "| loaded 1 examples from: test_bin/test.src-tgt.src\n",
      "| loaded 1 examples from: test_bin/test.src-tgt.tgt\n",
      "| test_bin test src-tgt 1 examples\n",
      "| loading model(s) from m39v1/checkpoint.pt\n"
     ]
    }
   ],
   "source": [
    "# Toggle lite_mode to True to run a light version of the model. \n",
    "# Considerable speedup on CPU with some impact on the diversity in paraphrases generated.\n",
    "pp = NMTParaphraser(args, lite_mode=False)"
   ]
  },
  {
   "cell_type": "code",
   "execution_count": 4,
   "metadata": {},
   "outputs": [],
   "source": [
    "sentence = \"I am searching for flights from New York to Berlin flying next week.\"\n",
    "# sentence = \"I am searching for apartments in a nice neighborhood.\"\n",
    "# sentence = \"I am hungry for some authentic Italian cuisine.\"\n",
    "# sentence = \"As soon as you think you have escaped the danger, you get hit by another one.\"\n",
    "# sentence = \"The president's announcement brought a sense of fear in the minds of people.\""
   ]
  },
  {
   "cell_type": "code",
   "execution_count": 5,
   "metadata": {
    "scrolled": true
   },
   "outputs": [
    {
     "name": "stdout",
     "output_type": "stream",
     "text": [
      "Running command rm -rf data-bin\n",
      "Running command rm -rf test_bin\n",
      "Running command fairseq-preprocess --source-lang src --target-lang tgt --joined-dictionary --srcdict m39v1//dict.tgt.txt --trainpref test --validpref test --testpref test --destdir test_bin\n",
      "| loaded 1 examples from: test_bin/test.src-tgt.src\n",
      "| loaded 1 examples from: test_bin/test.src-tgt.tgt\n",
      "| test_bin test src-tgt 1 examples\n",
      "Complete inference time 23.980899810791016\n",
      "1. I am looking for flights from New York to Berlin next week.\n",
      "2. And I am looking for flights from New York to Berlin next week.\"\n",
      "3. In the next week, I am looking for flights from New York to Berlin.\n",
      "4. Let me look at next week's flights between New York and Berlin.\n",
      "5. “I'm looking for the flights coming next week from New York to Berlin.”\n",
      "6. This is the first time that I have been looking for flights from New York City to Berlin to fly next week.\n",
      "7. Now, I am in search for a new New York-Berlin flight next week.\" (p.\n",
      "8. Here are flights from New York City and Berlin, scheduled for next week's flights.\n",
      "9. Whatever happening is, it is a new flight that I am looking at from New York City to Berlin next week's flight.\n",
      "10. You can see what you will do in Berlin next week.\n"
     ]
    }
   ],
   "source": [
    "prism_a = 0.05\n",
    "prism_b = 4\n",
    "paraphrases = pp.generate_paraphrase(sentence, \"en\", prism_a, prism_b)\n",
    "for i,p in enumerate(paraphrases):\n",
    "    print(f\"{i+1}. {p}\")"
   ]
  },
  {
   "cell_type": "code",
   "execution_count": 6,
   "metadata": {},
   "outputs": [
    {
     "name": "stdout",
     "output_type": "stream",
     "text": [
      "Running command rm -rf data-bin\n",
      "Running command rm -rf test_bin\n",
      "Running command fairseq-preprocess --source-lang src --target-lang tgt --joined-dictionary --srcdict m39v1//dict.tgt.txt --trainpref test --validpref test --testpref test --destdir test_bin\n",
      "| loaded 1 examples from: test_bin/test.src-tgt.src\n",
      "| loaded 1 examples from: test_bin/test.src-tgt.tgt\n",
      "| test_bin test src-tgt 1 examples\n",
      "Complete inference time 15.944985151290894\n",
      "1. Ich möchte alle Karten sperren, wie kann ich das tun?\n",
      "2. Ich möchte alle Karten sperren, wie kann ich das tun?....\n",
      "3. Ich möchte alle Karten sperren, wie kann man dies bewerkstelligen ?!!?\n",
      "4. Aber ich will alle Karten sperren, wie kann ich das tun?\n",
      "5. Sie wollen ihre Karten absperren, aber wie kann ich das tun?\n",
      "6. Wir haben unseren Weg, alle Karten zu sperren, aber wie kann ich das tun?\n",
      "7. Die Karten werden gesperrt; was geschieht dann mit den Karten?\n",
      "8. Lassen Sie mich mich alle Karten sperren, aber wie kann ich das tun?\")\n",
      "9. Dazu muss ich alle Karten sperre.\n",
      "10. Mir geht es darum alles zu stoppen – und wohin geht dies eigentlich aussehen zu lassen?\n"
     ]
    }
   ],
   "source": [
    "sentence = \"Ich möchte alle meine Karten sperren. Wie mache ich es?\"\n",
    "prism_a = 0.05\n",
    "prism_b = 4\n",
    "paraphrases = pp.generate_paraphrase(sentence, \"de\", prism_a, prism_b)\n",
    "for i,p in enumerate(paraphrases):\n",
    "    print(f\"{i+1}. {p}\")"
   ]
  }
 ],
 "metadata": {
  "kernelspec": {
   "display_name": "Python 3",
   "language": "python",
   "name": "python3"
  },
  "language_info": {
   "codemirror_mode": {
    "name": "ipython",
    "version": 3
   },
   "file_extension": ".py",
   "mimetype": "text/x-python",
   "name": "python",
   "nbconvert_exporter": "python",
   "pygments_lexer": "ipython3",
   "version": "3.7.9"
  }
 },
 "nbformat": 4,
 "nbformat_minor": 4
}
